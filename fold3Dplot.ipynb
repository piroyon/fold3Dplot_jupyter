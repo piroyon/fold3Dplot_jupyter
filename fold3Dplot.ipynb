{
 "cells": [
  {
   "cell_type": "code",
   "execution_count": 6,
   "id": "b78f8461",
   "metadata": {},
   "outputs": [],
   "source": [
    "import sys\n",
    "import numpy as np\n",
    "import pickle\n",
    "import py3Dmol\n",
    "import matplotlib.pyplot as plt\n",
    "from ipywidgets import interact, fixed, GridspecLayout, Output"
   ]
  },
  {
   "cell_type": "code",
   "execution_count": 7,
   "id": "60046cdc",
   "metadata": {},
   "outputs": [],
   "source": [
    "def plot_plddt_legend():\n",
    "  thresh = ['plDDT:','Very low (<50)','Low (60)','OK (70)','Confident (80)','Very high (>90)']\n",
    "  plt.figure(figsize=(1,0.1),dpi=100)\n",
    "  for c in [\"#FFFFFF\",\"#FF0000\",\"#FFFF00\",\"#00FF00\",\"#00FFFF\",\"#0000FF\"]:\n",
    "    plt.bar(0, 0, color=c)\n",
    "  plt.legend(thresh, frameon=False,\n",
    "             loc='center', ncol=6,\n",
    "             handletextpad=1,\n",
    "             columnspacing=1,\n",
    "             markerscale=0.5,)\n",
    "  plt.axis(False)\n",
    "  return plt"
   ]
  },
  {
   "cell_type": "code",
   "execution_count": 13,
   "id": "e7bda6e5",
   "metadata": {},
   "outputs": [],
   "source": [
    "def plot_confidence(model_num=1, homooligomer=1, ptm=True):\n",
    "  if ptm:\n",
    "      pkl_file = f\"result_model_{model_num}_ptm.pkl\"\n",
    "    else:\n",
    "      pkl_file = f\"result_model_{model_num}.pkl\"\n",
    "  with open(pkl_file, 'rb') as mpkl:\n",
    "    resp = pickle.load(mpkl)\n",
    "  msa_file = 'msas/bfd_uniclust_hits.a3m'\n",
    "  row = 0\n",
    "  with open(msa_file, 'r') as m:\n",
    "    for line in m:\n",
    "        row += 1\n",
    "        if  row == 2:\n",
    "            query_sequence = line.strip()\n",
    "            break\n",
    " \n",
    "  plt.figure(figsize=(10,3),dpi=100)\n",
    "  plt.subplot(1,2,1); plt.title('Predicted lDDT')\n",
    "  plt.plot(resp[\"plddt\"])\n",
    "  for n in range(homooligomer+1):\n",
    "    x = n*(len(query_sequence))\n",
    "    plt.plot([x,x],[0,100],color=\"black\")\n",
    "  plt.ylabel('plDDT')\n",
    "  plt.xlabel('position')\n",
    "  plt.subplot(1,2,2);plt.title('Predicted Aligned Error')\n",
    "  plt.imshow(resp[\"predicted_aligned_error\"], cmap=\"bwr\",vmin=0,vmax=30)\n",
    "  plt.colorbar()\n",
    "  plt.xlabel('Scored residue')\n",
    "  plt.ylabel('Aligned residue')\n",
    "  return plt"
   ]
  },
  {
   "cell_type": "code",
   "execution_count": 17,
   "id": "5fbbf92b",
   "metadata": {},
   "outputs": [],
   "source": [
    "def show_pdb(model_num=1, color=\"lDDT\", amber_used=True, ptm=True,\n",
    "             show_sidechains=False, show_mainchains=False, homooligomer=1):\n",
    "  model_name = f\"model_{model_num}\"\n",
    "  if amber_used:\n",
    "    if ptm:\n",
    "      pdb_filename = f\"relaxed_{model_name}_ptm.pdb\"\n",
    "    else:\n",
    "      pdb_filename = f\"relaxed_{model_name}.pdb\"\n",
    "  else:\n",
    "    if ptm:\n",
    "      pdb_filename = f\"unrelaxed_{model_name}_ptm.pdb\"\n",
    "    else:\n",
    "      pdb_filename = f\"unrelaxed_{model_name}.pdb\"\n",
    "\n",
    "  view = py3Dmol.view(js='https://3dmol.org/build/3Dmol.js',)\n",
    "  view.addModel(open(pdb_filename,'r').read(),'pdb')\n",
    "\n",
    "  if color == \"lDDT\":\n",
    "    view.setStyle({'cartoon': {'colorscheme': {'prop':'b','gradient': 'roygb','min':50,'max':90}}})\n",
    "  elif color == \"rainbow\":\n",
    "    view.setStyle({'cartoon': {'color':'spectrum'}})\n",
    "  elif color == \"chain\":\n",
    "    for n,chain,color in zip(range(homooligomer),list(\"ABCDEFGH\"),\n",
    "                     [\"lime\",\"cyan\",\"magenta\",\"yellow\",\"salmon\",\"white\",\"blue\",\"orange\"]):\n",
    "       view.setStyle({'chain':chain},{'cartoon': {'color':color}})\n",
    "  if show_sidechains:\n",
    "    BB = ['C','O','N']\n",
    "    view.addStyle({'and':[{'resn':[\"GLY\",\"PRO\"],'invert':True},{'atom':BB,'invert':True}]},\n",
    "                        {'stick':{'colorscheme':f\"WhiteCarbon\",'radius':0.3}})\n",
    "    view.addStyle({'and':[{'resn':\"GLY\"},{'atom':'CA'}]},\n",
    "                        {'sphere':{'colorscheme':f\"WhiteCarbon\",'radius':0.3}})\n",
    "    view.addStyle({'and':[{'resn':\"PRO\"},{'atom':['C','O'],'invert':True}]},\n",
    "                        {'stick':{'colorscheme':f\"WhiteCarbon\",'radius':0.3}})  \n",
    "  if show_mainchains:\n",
    "    BB = ['C','O','N','CA']\n",
    "    view.addStyle({'atom':BB},{'stick':{'colorscheme':f\"WhiteCarbon\",'radius':0.3}})\n",
    "\n",
    "  view.zoomTo()\n",
    "\n",
    "  if color == \"lDDT\": plot_plddt_legend().show()  \n",
    "  \n",
    "  plot_confidence(model_num, homooligomer).show()\n",
    "\n",
    "  return view\n"
   ]
  },
  {
   "cell_type": "code",
   "execution_count": 18,
   "id": "a5a37e1e",
   "metadata": {},
   "outputs": [
    {
     "data": {
      "application/vnd.jupyter.widget-view+json": {
       "model_id": "4a6b125fa63e4e59bd447e35f2ecae25",
       "version_major": 2,
       "version_minor": 0
      },
      "text/plain": [
       "interactive(children=(IntSlider(value=1, description='model_num', max=5, min=1), Checkbox(value=False, descrip…"
      ]
     },
     "metadata": {},
     "output_type": "display_data"
    },
    {
     "data": {
      "text/plain": [
       "<function __main__.show_pdb(model_num=1, show_sidechains=False, show_mainchains=False, color='lDDT', amber_used=True, ptm=True, jobname='', homooligomer=1)>"
      ]
     },
     "execution_count": 18,
     "metadata": {},
     "output_type": "execute_result"
    }
   ],
   "source": [
    "interact(show_pdb, model_num=(1,5,1), color=[\"lDDT\", \"rainbow\", \"chain\"], amber_used=False)"
   ]
  },
  {
   "cell_type": "code",
   "execution_count": null,
   "id": "7f62d7b7",
   "metadata": {},
   "outputs": [],
   "source": []
  }
 ],
 "metadata": {
  "kernelspec": {
   "display_name": "Python 3 (ipykernel)",
   "language": "python",
   "name": "python3"
  },
  "language_info": {
   "codemirror_mode": {
    "name": "ipython",
    "version": 3
   },
   "file_extension": ".py",
   "mimetype": "text/x-python",
   "name": "python",
   "nbconvert_exporter": "python",
   "pygments_lexer": "ipython3",
   "version": "3.9.6"
  }
 },
 "nbformat": 4,
 "nbformat_minor": 5
}
